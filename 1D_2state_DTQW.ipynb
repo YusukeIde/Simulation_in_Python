{
 "cells": [
  {
   "cell_type": "markdown",
   "metadata": {},
   "source": [
    "「# -*- coding: utf-8 -*-」は文字コード指定のコマンド．  \n",
    "「numpy」(配列演算)の準備．  \n",
    "「matplotlib」(グラフ描画)の準備．  \n",
    "「%matplotlib inline」でグラフをnotebook内に描画．"
   ]
  },
  {
   "cell_type": "code",
   "execution_count": 10,
   "metadata": {
    "code_folding": [],
    "collapsed": true
   },
   "outputs": [],
   "source": [
    "# -*- coding: utf-8 -*-\n",
    "\n",
    "from numpy import * \n",
    "import matplotlib.pyplot as plt\n",
    "\n",
    "%matplotlib inline"
   ]
  },
  {
   "cell_type": "markdown",
   "metadata": {},
   "source": [
    "コインの定義：\n",
    "\n",
    "$\n",
    "C=\n",
    "\\begin{bmatrix}\n",
    "a & b \\\\\n",
    "c & d\n",
    "\\end{bmatrix}\n",
    "$\n",
    "\n",
    "a,b,c,dに複素数を設定する場合は，例えば\n",
    "$\n",
    "a = ２．＋３．ｊ\n",
    "$\n",
    "のように指定する．  \n",
    "\n",
    "原点に置く初期状態の定義  \n",
    "$\n",
    "\\psi_0 = | 0 \\rangle \\otimes (\\alpha | L \\rangle + \\beta | R \\rangle )\\quad \\text{with }|\\alpha |^{2}+|\\beta |^{2} = 1.\n",
    "$"
   ]
  },
  {
   "cell_type": "code",
   "execution_count": 11,
   "metadata": {
    "collapsed": true
   },
   "outputs": [],
   "source": [
    "a = 1./sqrt(2.)\n",
    "b = 1./sqrt(2.)\n",
    "c = 1./sqrt(2.)\n",
    "d = -1./sqrt(2.)\n",
    "\n",
    "C = array( [ [a, b], [c, d] ])\n",
    "\n",
    "alpha = 1/sqrt(2.)\n",
    "beta =  1j/sqrt(2.)"
   ]
  },
  {
   "cell_type": "markdown",
   "metadata": {},
   "source": [
    "T：総試行時間 "
   ]
  },
  {
   "cell_type": "code",
   "execution_count": 12,
   "metadata": {
    "collapsed": true
   },
   "outputs": [],
   "source": [
    "T = 300     # number of trials"
   ]
  },
  {
   "cell_type": "markdown",
   "metadata": {},
   "source": [
    "以下，計算プログラム．"
   ]
  },
  {
   "cell_type": "code",
   "execution_count": 13,
   "metadata": {},
   "outputs": [],
   "source": [
    "P = 2*T+1    # number of positions\n",
    "\n",
    "ShiftPlus = roll(identity(P), 1, axis=0) # shift to +1 direction\n",
    "ShiftMinus = roll(identity(P), -1, axis=0) # shift to -1 direction\n",
    "\n",
    "L = array([1, 0])  # |L>\n",
    "R = array([0, 1])  # |R>\n",
    "\n",
    "LL = outer(L, L)  # |L><L| \n",
    "RR = outer(R, R)  # |R><R| \n",
    "\n",
    "S = kron(ShiftPlus, RR) + kron(ShiftMinus, LL) # S| i, R > = | i+1, R>, S| i, L> = | i-1, L>\n",
    "\n",
    "U = S.dot(kron(identity(P), C)) # U = S \\sum_{i} | i >< i | \\otimes C\n",
    "\n",
    "p0 = zeros(P)\n",
    "p0[int((P-1)/2)] = 1     # origin =1, others =0\n",
    "\n",
    "psi0 = kron(p0,alpha*L+beta*R) # \\psi _{0}\n",
    "\n",
    "UTpsi0 = linalg.matrix_power(U, T).dot(psi0) # U^{T} \\psi _{0}\n",
    "\n",
    "prob = empty(P)\n",
    "\n",
    "prob = abs(UTpsi0[0::2])**2 + abs(UTpsi0[1::2])**2  # (U^{T} \\psi _{0})(2i) = | i-T, L>, (U^{T} \\psi _{0})(2i+1) = | i-T, R>"
   ]
  },
  {
   "cell_type": "markdown",
   "metadata": {},
   "source": [
    "確率分布の描画"
   ]
  },
  {
   "cell_type": "code",
   "execution_count": 18,
   "metadata": {
    "scrolled": false
   },
   "outputs": [
    {
     "data": {
      "image/png": "[encoded data removed]",
      "text/plain": [
       "<matplotlib.figure.Figure at 0x121045160>"
      ]
     },
     "metadata": {},
     "output_type": "display_data"
    }
   ],
   "source": [
    "plt.figure( figsize = (13,5) ) # set plot size\n",
    "\n",
    "plt.subplot(1,2,1) # rows = 1, columns = 2, plot no. =1\n",
    "plt.plot(arange(-T,T+1,1), prob) # plot with line\n",
    "plt.title('Prob. dist. for T= %s with line' % T) # title of the graph\n",
    "plt.xlabel('position') # x label of the graph\n",
    "plt.ylabel('probability') # y label of the graph\n",
    "\n",
    "plt.subplot(1,2,2) # rows = 1, columns = 2, plot no. =2\n",
    "plt.plot(arange(-T,T+1,1), prob, 'o-')  # plot with line and points\n",
    "plt.title('Prob. dist. for T= %s with line and points' % T) # title of the graph\n",
    "plt.xlabel('position') # x label of the graph\n",
    "plt.ylabel('probability') # y label of the graph\n",
    "\n",
    "plt.tight_layout() # adjust spaces between subplots"
   ]
  }
 ],
 "metadata": {
  "anaconda-cloud": {},
  "kernelspec": {
   "display_name": "Python 3",
   "language": "python",
   "name": "python3"
  },
  "language_info": {
   "codemirror_mode": {
    "name": "ipython",
    "version": 3
   },
   "file_extension": ".py",
   "mimetype": "text/x-python",
   "name": "python",
   "nbconvert_exporter": "python",
   "pygments_lexer": "ipython3",
   "version": "3.7.3"
  },
  "latex_envs": {
   "bibliofile": "biblio.bib",
   "cite_by": "apalike",
   "current_citInitial": 1,
   "eqLabelWithNumbers": true,
   "eqNumInitial": 0
  }
 },
 "nbformat": 4,
 "nbformat_minor": 1
}
